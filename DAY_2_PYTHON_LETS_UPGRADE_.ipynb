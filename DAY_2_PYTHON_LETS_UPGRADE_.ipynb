{
  "nbformat": 4,
  "nbformat_minor": 0,
  "metadata": {
    "colab": {
      "name": "DAY 2_PYTHON_LETS UPGRADE .ipynb",
      "provenance": [],
      "collapsed_sections": []
    },
    "kernelspec": {
      "name": "python3",
      "display_name": "Python 3"
    },
    "language_info": {
      "name": "python"
    }
  },
  "cells": [
    {
      "cell_type": "code",
      "metadata": {
        "id": "wz8w4Ux8pDpF"
      },
      "source": [
        ""
      ],
      "execution_count": null,
      "outputs": []
    },
    {
      "cell_type": "markdown",
      "metadata": {
        "id": "kHNtg3A-ptv1"
      },
      "source": [
        "Python Zero to Hero | Day 2 | LetsUpgrade\n"
      ]
    },
    {
      "cell_type": "code",
      "metadata": {
        "id": "7OxkhXb5pvwl"
      },
      "source": [
        ""
      ],
      "execution_count": null,
      "outputs": []
    },
    {
      "cell_type": "markdown",
      "metadata": {
        "id": "FeFYI_Rvpw89"
      },
      "source": [
        "NAME : SEKHAR REDDY /\n",
        "EMAIL : sekharreddy717.niper@gmail.com /\n",
        "number : +918331995717"
      ]
    },
    {
      "cell_type": "code",
      "metadata": {
        "id": "GMuAHe30qJNG"
      },
      "source": [
        "#slicing of the list"
      ],
      "execution_count": 1,
      "outputs": []
    },
    {
      "cell_type": "code",
      "metadata": {
        "colab": {
          "base_uri": "https://localhost:8080/"
        },
        "id": "v6hmjJ3MqSMV",
        "outputId": "831b80ff-85bc-4ddf-d844-181377d4ad5c"
      },
      "source": [
        "li = [10,20,45,61,78]\n",
        "print(li[0:3])"
      ],
      "execution_count": 2,
      "outputs": [
        {
          "output_type": "stream",
          "text": [
            "[10, 20, 45]\n"
          ],
          "name": "stdout"
        }
      ]
    },
    {
      "cell_type": "code",
      "metadata": {
        "colab": {
          "base_uri": "https://localhost:8080/"
        },
        "id": "5wx5IcUNqdc9",
        "outputId": "75a04b89-7a6f-4085-d975-3f623068ec26"
      },
      "source": [
        "print(li[:3])"
      ],
      "execution_count": 3,
      "outputs": [
        {
          "output_type": "stream",
          "text": [
            "[10, 20, 45]\n"
          ],
          "name": "stdout"
        }
      ]
    },
    {
      "cell_type": "code",
      "metadata": {
        "colab": {
          "base_uri": "https://localhost:8080/"
        },
        "id": "sWvKNHr_qhTr",
        "outputId": "add99ecd-2b3f-4822-fe51-68cb0d00e3ca"
      },
      "source": [
        "print(li[1:3])"
      ],
      "execution_count": 4,
      "outputs": [
        {
          "output_type": "stream",
          "text": [
            "[20, 45]\n"
          ],
          "name": "stdout"
        }
      ]
    },
    {
      "cell_type": "code",
      "metadata": {
        "colab": {
          "base_uri": "https://localhost:8080/"
        },
        "id": "U5dkkernqqvK",
        "outputId": "08d994aa-b17a-4def-8128-21f80dc0119d"
      },
      "source": [
        "print(li[1:])"
      ],
      "execution_count": 5,
      "outputs": [
        {
          "output_type": "stream",
          "text": [
            "[20, 45, 61, 78]\n"
          ],
          "name": "stdout"
        }
      ]
    },
    {
      "cell_type": "code",
      "metadata": {
        "colab": {
          "base_uri": "https://localhost:8080/"
        },
        "id": "wfLzDS_tq_1v",
        "outputId": "b9f73624-89df-4093-adf3-53d2e132236e"
      },
      "source": [
        "print(li[:])"
      ],
      "execution_count": 6,
      "outputs": [
        {
          "output_type": "stream",
          "text": [
            "[10, 20, 45, 61, 78]\n"
          ],
          "name": "stdout"
        }
      ]
    },
    {
      "cell_type": "code",
      "metadata": {
        "colab": {
          "base_uri": "https://localhost:8080/"
        },
        "id": "x-PNlIaVrJN2",
        "outputId": "14013066-5546-43f2-e430-f1ba976cbd80"
      },
      "source": [
        "print(li[-3])"
      ],
      "execution_count": 7,
      "outputs": [
        {
          "output_type": "stream",
          "text": [
            "45\n"
          ],
          "name": "stdout"
        }
      ]
    },
    {
      "cell_type": "code",
      "metadata": {
        "colab": {
          "base_uri": "https://localhost:8080/"
        },
        "id": "GVBehKE5rYmZ",
        "outputId": "e6bc5a9d-ab45-4b17-a41e-8aaa8935b642"
      },
      "source": [
        "li = [10,20,45,61,78]\n",
        "print(li[1:5])"
      ],
      "execution_count": 8,
      "outputs": [
        {
          "output_type": "stream",
          "text": [
            "[20, 45, 61, 78]\n"
          ],
          "name": "stdout"
        }
      ]
    },
    {
      "cell_type": "code",
      "metadata": {
        "colab": {
          "base_uri": "https://localhost:8080/"
        },
        "id": "rjz2U3YRsSPf",
        "outputId": "ce43b224-bd44-488a-f904-ea8c4684cb23"
      },
      "source": [
        "li = [10,20,45,61,78] #start , #end , #step \n",
        "print(li[1:5:1])"
      ],
      "execution_count": 9,
      "outputs": [
        {
          "output_type": "stream",
          "text": [
            "[20, 45, 61, 78]\n"
          ],
          "name": "stdout"
        }
      ]
    },
    {
      "cell_type": "code",
      "metadata": {
        "colab": {
          "base_uri": "https://localhost:8080/"
        },
        "id": "vzfb_AtisWas",
        "outputId": "266a7da5-1dff-4528-acb0-9a6a91c4390e"
      },
      "source": [
        "li = [10,20,45,61,78]\n",
        "print(li[1:5:2])"
      ],
      "execution_count": 10,
      "outputs": [
        {
          "output_type": "stream",
          "text": [
            "[20, 61]\n"
          ],
          "name": "stdout"
        }
      ]
    },
    {
      "cell_type": "code",
      "metadata": {
        "colab": {
          "base_uri": "https://localhost:8080/"
        },
        "id": "REfWEUXjshNa",
        "outputId": "528f3706-698f-40b7-c3d2-22f0fa2612f1"
      },
      "source": [
        "print(li[: : 1])"
      ],
      "execution_count": 11,
      "outputs": [
        {
          "output_type": "stream",
          "text": [
            "[10, 20, 45, 61, 78]\n"
          ],
          "name": "stdout"
        }
      ]
    },
    {
      "cell_type": "code",
      "metadata": {
        "colab": {
          "base_uri": "https://localhost:8080/"
        },
        "id": "3SMX-Xmss2KB",
        "outputId": "f36c5b68-1318-490d-a089-f1e0b2c99818"
      },
      "source": [
        "print(li[: : 2])"
      ],
      "execution_count": 12,
      "outputs": [
        {
          "output_type": "stream",
          "text": [
            "[10, 45, 78]\n"
          ],
          "name": "stdout"
        }
      ]
    },
    {
      "cell_type": "code",
      "metadata": {
        "colab": {
          "base_uri": "https://localhost:8080/"
        },
        "id": "ClsKH6kHs5Nb",
        "outputId": "78f37bd5-790e-4d55-c2d2-2c6e1eafa1b2"
      },
      "source": [
        "print(li[: : -1])"
      ],
      "execution_count": 13,
      "outputs": [
        {
          "output_type": "stream",
          "text": [
            "[78, 61, 45, 20, 10]\n"
          ],
          "name": "stdout"
        }
      ]
    },
    {
      "cell_type": "code",
      "metadata": {
        "colab": {
          "base_uri": "https://localhost:8080/"
        },
        "id": "Fb-nRLs8tFMz",
        "outputId": "3625fdd6-a4e8-4a76-be22-8145690b7b3d"
      },
      "source": [
        "print(li[: : -2])"
      ],
      "execution_count": 14,
      "outputs": [
        {
          "output_type": "stream",
          "text": [
            "[78, 45, 10]\n"
          ],
          "name": "stdout"
        }
      ]
    },
    {
      "cell_type": "code",
      "metadata": {
        "id": "b3XAPw0htIH0"
      },
      "source": [
        "li = [10,20,45,61,78]"
      ],
      "execution_count": 15,
      "outputs": []
    },
    {
      "cell_type": "code",
      "metadata": {
        "colab": {
          "base_uri": "https://localhost:8080/"
        },
        "id": "ZWgXZn6CtcQ6",
        "outputId": "a65448ac-b8da-4fcf-9ef4-bca35bae0ec9"
      },
      "source": [
        "li"
      ],
      "execution_count": 16,
      "outputs": [
        {
          "output_type": "execute_result",
          "data": {
            "text/plain": [
              "[10, 20, 45, 61, 78]"
            ]
          },
          "metadata": {
            "tags": []
          },
          "execution_count": 16
        }
      ]
    },
    {
      "cell_type": "code",
      "metadata": {
        "colab": {
          "base_uri": "https://localhost:8080/"
        },
        "id": "fqSC3cVJtdNU",
        "outputId": "347d2227-ade0-4611-ba38-0b45d5929c1e"
      },
      "source": [
        "li.reverse()\n",
        "print(li)"
      ],
      "execution_count": 19,
      "outputs": [
        {
          "output_type": "stream",
          "text": [
            "[78, 61, 45, 20, 10]\n"
          ],
          "name": "stdout"
        }
      ]
    },
    {
      "cell_type": "code",
      "metadata": {
        "colab": {
          "base_uri": "https://localhost:8080/"
        },
        "id": "_u4xt4yCtfjB",
        "outputId": "1d614287-4d22-4557-cb8d-97e92a8dda50"
      },
      "source": [
        "li"
      ],
      "execution_count": 20,
      "outputs": [
        {
          "output_type": "execute_result",
          "data": {
            "text/plain": [
              "[78, 61, 45, 20, 10]"
            ]
          },
          "metadata": {
            "tags": []
          },
          "execution_count": 20
        }
      ]
    },
    {
      "cell_type": "code",
      "metadata": {
        "id": "WuWqoJpltmbQ"
      },
      "source": [
        "li2=[1,5,10]"
      ],
      "execution_count": 21,
      "outputs": []
    },
    {
      "cell_type": "code",
      "metadata": {
        "colab": {
          "base_uri": "https://localhost:8080/"
        },
        "id": "uEgqr62nt73-",
        "outputId": "77218d8c-3a9a-4c1c-9c00-617380860c28"
      },
      "source": [
        "print(li2 * 3) #repetion of list"
      ],
      "execution_count": 25,
      "outputs": [
        {
          "output_type": "stream",
          "text": [
            "[1, 5, 10, 1, 5, 10, 1, 5, 10]\n"
          ],
          "name": "stdout"
        }
      ]
    },
    {
      "cell_type": "code",
      "metadata": {
        "colab": {
          "base_uri": "https://localhost:8080/"
        },
        "id": "Dq5-ujZ_t_p_",
        "outputId": "98c5664d-8315-4041-f0a0-32ce172afb58"
      },
      "source": [
        "first = [1,2,3] #concatenation of lists\n",
        "last =  [4,5,6]\n",
        "print(first+last)"
      ],
      "execution_count": 27,
      "outputs": [
        {
          "output_type": "stream",
          "text": [
            "[1, 2, 3, 4, 5, 6]\n"
          ],
          "name": "stdout"
        }
      ]
    },
    {
      "cell_type": "code",
      "metadata": {
        "colab": {
          "base_uri": "https://localhost:8080/"
        },
        "id": "8QKs6_67uYh9",
        "outputId": "67d42f65-6852-4e3c-f153-5d7e45f2616b"
      },
      "source": [
        "li3=[10,20,30,40,50,60,70,80,90] #membership\n",
        "print(50 in li3)"
      ],
      "execution_count": 28,
      "outputs": [
        {
          "output_type": "stream",
          "text": [
            "True\n"
          ],
          "name": "stdout"
        }
      ]
    },
    {
      "cell_type": "code",
      "metadata": {
        "colab": {
          "base_uri": "https://localhost:8080/"
        },
        "id": "q4qtLb0bu3fw",
        "outputId": "8c7fdf86-d3b1-4b4d-930b-38ca3f41c430"
      },
      "source": [
        "li3=[10,20,30,40,50,60,70,80,90] #membership\n",
        "print(100 in li3)"
      ],
      "execution_count": 29,
      "outputs": [
        {
          "output_type": "stream",
          "text": [
            "False\n"
          ],
          "name": "stdout"
        }
      ]
    },
    {
      "cell_type": "code",
      "metadata": {
        "colab": {
          "base_uri": "https://localhost:8080/"
        },
        "id": "PvxGAJrCu_sz",
        "outputId": "87bbeca4-3e80-4755-f784-b60819ede723"
      },
      "source": [
        "li3=[10,20,30,40,50,60,70,80,90] #itreation\n",
        "for i in li3 :\n",
        "  print(i)"
      ],
      "execution_count": 3,
      "outputs": [
        {
          "output_type": "stream",
          "text": [
            "10\n",
            "20\n",
            "30\n",
            "40\n",
            "50\n",
            "60\n",
            "70\n",
            "80\n",
            "90\n"
          ],
          "name": "stdout"
        }
      ]
    },
    {
      "cell_type": "code",
      "metadata": {
        "colab": {
          "base_uri": "https://localhost:8080/"
        },
        "id": "jm60ocb4vXys",
        "outputId": "47b53f70-d55a-4886-f125-6dfb02585142"
      },
      "source": [
        "li3=[10,20,30,40,50,60,70,80,90] #itreation\n",
        "for i in li3 :\n",
        "  print(i , end = ' ')"
      ],
      "execution_count": 4,
      "outputs": [
        {
          "output_type": "stream",
          "text": [
            "10 20 30 40 50 60 70 80 90 "
          ],
          "name": "stdout"
        }
      ]
    },
    {
      "cell_type": "code",
      "metadata": {
        "colab": {
          "base_uri": "https://localhost:8080/"
        },
        "id": "4Gz192INyFJO",
        "outputId": "9ab6cf07-d98d-49bc-f91a-74b124eaaacf"
      },
      "source": [
        "print(li3)"
      ],
      "execution_count": 5,
      "outputs": [
        {
          "output_type": "stream",
          "text": [
            "[10, 20, 30, 40, 50, 60, 70, 80, 90]\n"
          ],
          "name": "stdout"
        }
      ]
    },
    {
      "cell_type": "code",
      "metadata": {
        "id": "C-FtHOZwl7pH"
      },
      "source": [
        "li3.append(100) #add at the end"
      ],
      "execution_count": 6,
      "outputs": []
    },
    {
      "cell_type": "code",
      "metadata": {
        "colab": {
          "base_uri": "https://localhost:8080/"
        },
        "id": "ZXjfz4KbmSOE",
        "outputId": "40c1e9cc-9c18-4b2b-dd31-34540af7be63"
      },
      "source": [
        "print(li3)"
      ],
      "execution_count": 7,
      "outputs": [
        {
          "output_type": "stream",
          "text": [
            "[10, 20, 30, 40, 50, 60, 70, 80, 90, 100]\n"
          ],
          "name": "stdout"
        }
      ]
    },
    {
      "cell_type": "code",
      "metadata": {
        "colab": {
          "base_uri": "https://localhost:8080/"
        },
        "id": "GYRBbJI-mUc8",
        "outputId": "0e00c10f-d408-4f3b-ced0-6468e47e08ac"
      },
      "source": [
        "li3.pop(5) #remove at index "
      ],
      "execution_count": 8,
      "outputs": [
        {
          "output_type": "execute_result",
          "data": {
            "text/plain": [
              "60"
            ]
          },
          "metadata": {
            "tags": []
          },
          "execution_count": 8
        }
      ]
    },
    {
      "cell_type": "code",
      "metadata": {
        "colab": {
          "base_uri": "https://localhost:8080/"
        },
        "id": "ml_HMz6omzaZ",
        "outputId": "2ec310ed-d2df-43fb-92db-c3d2461f6ece"
      },
      "source": [
        "li3"
      ],
      "execution_count": 9,
      "outputs": [
        {
          "output_type": "execute_result",
          "data": {
            "text/plain": [
              "[10, 20, 30, 40, 50, 70, 80, 90, 100]"
            ]
          },
          "metadata": {
            "tags": []
          },
          "execution_count": 9
        }
      ]
    },
    {
      "cell_type": "code",
      "metadata": {
        "id": "4EdBM9N1m1bd"
      },
      "source": [
        "li3.remove(50) #remove the element"
      ],
      "execution_count": 14,
      "outputs": []
    },
    {
      "cell_type": "code",
      "metadata": {
        "colab": {
          "base_uri": "https://localhost:8080/"
        },
        "id": "Sao7Pqt0m5j6",
        "outputId": "31a5c5ff-50e6-48dc-c635-37f8403606a5"
      },
      "source": [
        "li3"
      ],
      "execution_count": 26,
      "outputs": [
        {
          "output_type": "execute_result",
          "data": {
            "text/plain": [
              "[10, 20, 30, 100, 40, 70, 80, 90, 20]"
            ]
          },
          "metadata": {
            "tags": []
          },
          "execution_count": 26
        }
      ]
    },
    {
      "cell_type": "code",
      "metadata": {
        "id": "1uzvNZ_pm6fY"
      },
      "source": [
        "li3.insert(3,100)"
      ],
      "execution_count": 16,
      "outputs": []
    },
    {
      "cell_type": "code",
      "metadata": {
        "colab": {
          "base_uri": "https://localhost:8080/"
        },
        "id": "imxqWDzonujd",
        "outputId": "d6c51df7-92f1-4bba-b4e6-f3f3e490fba1"
      },
      "source": [
        "li3"
      ],
      "execution_count": 17,
      "outputs": [
        {
          "output_type": "execute_result",
          "data": {
            "text/plain": [
              "[10, 20, 30, 100, 40, 70, 80, 90]"
            ]
          },
          "metadata": {
            "tags": []
          },
          "execution_count": 17
        }
      ]
    },
    {
      "cell_type": "code",
      "metadata": {
        "id": "Uro8OWujnvlw"
      },
      "source": [
        "li3.append(20)"
      ],
      "execution_count": 18,
      "outputs": []
    },
    {
      "cell_type": "code",
      "metadata": {
        "colab": {
          "base_uri": "https://localhost:8080/"
        },
        "id": "3-J3vKZKpSHQ",
        "outputId": "7fd462f5-4ce8-4786-acce-3d490db04a09"
      },
      "source": [
        "print(li3)"
      ],
      "execution_count": 19,
      "outputs": [
        {
          "output_type": "stream",
          "text": [
            "[10, 20, 30, 100, 40, 70, 80, 90, 20]\n"
          ],
          "name": "stdout"
        }
      ]
    },
    {
      "cell_type": "code",
      "metadata": {
        "colab": {
          "base_uri": "https://localhost:8080/"
        },
        "id": "nPFAktkvpUNl",
        "outputId": "36655848-0cc0-412f-aee1-37add038e5c2"
      },
      "source": [
        "print(li3.count(20))"
      ],
      "execution_count": 20,
      "outputs": [
        {
          "output_type": "stream",
          "text": [
            "2\n"
          ],
          "name": "stdout"
        }
      ]
    },
    {
      "cell_type": "code",
      "metadata": {
        "colab": {
          "base_uri": "https://localhost:8080/"
        },
        "id": "SfVvQcfnqKzU",
        "outputId": "74ef0d35-3bc0-4d5a-bd5c-a5634110db08"
      },
      "source": [
        "print(li3.index(100))"
      ],
      "execution_count": 21,
      "outputs": [
        {
          "output_type": "stream",
          "text": [
            "3\n"
          ],
          "name": "stdout"
        }
      ]
    },
    {
      "cell_type": "code",
      "metadata": {
        "id": "twgzYz_RvEbc"
      },
      "source": [
        "#tuple\n",
        "t = (1,2,\"hello\",10.45)"
      ],
      "execution_count": 22,
      "outputs": []
    },
    {
      "cell_type": "code",
      "metadata": {
        "colab": {
          "base_uri": "https://localhost:8080/"
        },
        "id": "8dRiZG94A979",
        "outputId": "a53ffd53-7350-41c8-deb7-36c6ad2fd01e"
      },
      "source": [
        "print(t)"
      ],
      "execution_count": 23,
      "outputs": [
        {
          "output_type": "stream",
          "text": [
            "(1, 2, 'hello', 10.45)\n"
          ],
          "name": "stdout"
        }
      ]
    },
    {
      "cell_type": "code",
      "metadata": {
        "colab": {
          "base_uri": "https://localhost:8080/"
        },
        "id": "-Zztwg8FA_3A",
        "outputId": "f1f08689-310c-4cc5-c26e-0ab62270cd6c"
      },
      "source": [
        "print(type(t))"
      ],
      "execution_count": 24,
      "outputs": [
        {
          "output_type": "stream",
          "text": [
            "<class 'tuple'>\n"
          ],
          "name": "stdout"
        }
      ]
    },
    {
      "cell_type": "code",
      "metadata": {
        "id": "jYU12A-vBjRY"
      },
      "source": [
        "#tuple is immutable"
      ],
      "execution_count": 25,
      "outputs": []
    },
    {
      "cell_type": "code",
      "metadata": {
        "colab": {
          "base_uri": "https://localhost:8080/"
        },
        "id": "BUoxcvVYBuHW",
        "outputId": "53f6345f-6a7e-4291-8c1f-f21102671882"
      },
      "source": [
        "li3 #mutable"
      ],
      "execution_count": 27,
      "outputs": [
        {
          "output_type": "execute_result",
          "data": {
            "text/plain": [
              "[10, 20, 30, 100, 40, 70, 80, 90, 20]"
            ]
          },
          "metadata": {
            "tags": []
          },
          "execution_count": 27
        }
      ]
    },
    {
      "cell_type": "code",
      "metadata": {
        "id": "jarusJV6CaB5"
      },
      "source": [
        "li3[0] = 100"
      ],
      "execution_count": 28,
      "outputs": []
    },
    {
      "cell_type": "code",
      "metadata": {
        "colab": {
          "base_uri": "https://localhost:8080/"
        },
        "id": "8_2AUzSvCeZ_",
        "outputId": "0b07c769-01cf-423b-d378-acc836de4c65"
      },
      "source": [
        "li3"
      ],
      "execution_count": 31,
      "outputs": [
        {
          "output_type": "execute_result",
          "data": {
            "text/plain": [
              "[100, 20, 30, 100, 40, 70, 80, 90, 20]"
            ]
          },
          "metadata": {
            "tags": []
          },
          "execution_count": 31
        }
      ]
    },
    {
      "cell_type": "code",
      "metadata": {
        "id": "na0Wvs4FCxny"
      },
      "source": [
        "tup = (1,2,3,[4,5,6])"
      ],
      "execution_count": 33,
      "outputs": []
    },
    {
      "cell_type": "code",
      "metadata": {
        "colab": {
          "base_uri": "https://localhost:8080/"
        },
        "id": "yPKZXliTC1wr",
        "outputId": "a366505d-183a-49b6-f749-f59477276440"
      },
      "source": [
        "tup"
      ],
      "execution_count": 34,
      "outputs": [
        {
          "output_type": "execute_result",
          "data": {
            "text/plain": [
              "(1, 2, 3, [4, 5, 6])"
            ]
          },
          "metadata": {
            "tags": []
          },
          "execution_count": 34
        }
      ]
    },
    {
      "cell_type": "code",
      "metadata": {
        "id": "mMCdBC6MGl5T"
      },
      "source": [
        "tup[3][1]=10"
      ],
      "execution_count": 35,
      "outputs": []
    },
    {
      "cell_type": "code",
      "metadata": {
        "colab": {
          "base_uri": "https://localhost:8080/"
        },
        "id": "BM29OizZGsaZ",
        "outputId": "abd9bc6a-d053-43b8-8ea8-8d0348dc29dd"
      },
      "source": [
        "tup"
      ],
      "execution_count": 36,
      "outputs": [
        {
          "output_type": "execute_result",
          "data": {
            "text/plain": [
              "(1, 2, 3, [4, 10, 6])"
            ]
          },
          "metadata": {
            "tags": []
          },
          "execution_count": 36
        }
      ]
    },
    {
      "cell_type": "code",
      "metadata": {
        "id": "ZG8J3I0TGtfO"
      },
      "source": [
        "li5 = [1] #list with 1 element"
      ],
      "execution_count": 37,
      "outputs": []
    },
    {
      "cell_type": "code",
      "metadata": {
        "colab": {
          "base_uri": "https://localhost:8080/"
        },
        "id": "DqrVoG2wMt-p",
        "outputId": "c350d6c1-08bf-43af-fac7-1dd68a204379"
      },
      "source": [
        "li5"
      ],
      "execution_count": 38,
      "outputs": [
        {
          "output_type": "execute_result",
          "data": {
            "text/plain": [
              "[1]"
            ]
          },
          "metadata": {
            "tags": []
          },
          "execution_count": 38
        }
      ]
    },
    {
      "cell_type": "code",
      "metadata": {
        "colab": {
          "base_uri": "https://localhost:8080/"
        },
        "id": "XfLBOIjsMvFT",
        "outputId": "c388349b-839d-485e-d1a5-9f9befb9fcfe"
      },
      "source": [
        "print(type(li5))"
      ],
      "execution_count": 39,
      "outputs": [
        {
          "output_type": "stream",
          "text": [
            "<class 'list'>\n"
          ],
          "name": "stdout"
        }
      ]
    },
    {
      "cell_type": "code",
      "metadata": {
        "id": "-jTqKDSWMy5P"
      },
      "source": [
        "tup1=(1)"
      ],
      "execution_count": 40,
      "outputs": []
    },
    {
      "cell_type": "code",
      "metadata": {
        "colab": {
          "base_uri": "https://localhost:8080/"
        },
        "id": "ZDHU1qSjM4GV",
        "outputId": "6b7ed0c7-18a1-4a3a-d23d-70b0bf2676aa"
      },
      "source": [
        "print(type(tup1))"
      ],
      "execution_count": 41,
      "outputs": [
        {
          "output_type": "stream",
          "text": [
            "<class 'int'>\n"
          ],
          "name": "stdout"
        }
      ]
    },
    {
      "cell_type": "code",
      "metadata": {
        "id": "52UMYedMM8VE"
      },
      "source": [
        "tup1=(10,)"
      ],
      "execution_count": 42,
      "outputs": []
    },
    {
      "cell_type": "code",
      "metadata": {
        "colab": {
          "base_uri": "https://localhost:8080/"
        },
        "id": "C4zo2sVUNG3B",
        "outputId": "13bf214f-44cb-4610-fdcb-05780fb8d2e5"
      },
      "source": [
        "print(type(tup1))"
      ],
      "execution_count": 43,
      "outputs": [
        {
          "output_type": "stream",
          "text": [
            "<class 'tuple'>\n"
          ],
          "name": "stdout"
        }
      ]
    },
    {
      "cell_type": "code",
      "metadata": {
        "id": "MLvUs44oNMQA"
      },
      "source": [
        "#set"
      ],
      "execution_count": 44,
      "outputs": []
    },
    {
      "cell_type": "code",
      "metadata": {
        "id": "TbsVthHdQr2D"
      },
      "source": [
        "num = {1,2,3,4}"
      ],
      "execution_count": 45,
      "outputs": []
    },
    {
      "cell_type": "code",
      "metadata": {
        "colab": {
          "base_uri": "https://localhost:8080/"
        },
        "id": "XwyDSxDfQuS9",
        "outputId": "03e5dcdb-d235-4afd-8bba-6f53bec1ebbe"
      },
      "source": [
        "print(type(num))"
      ],
      "execution_count": 46,
      "outputs": [
        {
          "output_type": "stream",
          "text": [
            "<class 'set'>\n"
          ],
          "name": "stdout"
        }
      ]
    },
    {
      "cell_type": "code",
      "metadata": {
        "colab": {
          "base_uri": "https://localhost:8080/"
        },
        "id": "CCfXw7O4QzWn",
        "outputId": "0f546d96-bfec-445e-8945-4cf45a882a03"
      },
      "source": [
        "list1=[5,3,2,5,4,1]\n",
        "print(list1)"
      ],
      "execution_count": 49,
      "outputs": [
        {
          "output_type": "stream",
          "text": [
            "[5, 3, 2, 5, 4, 1]\n"
          ],
          "name": "stdout"
        }
      ]
    },
    {
      "cell_type": "code",
      "metadata": {
        "colab": {
          "base_uri": "https://localhost:8080/"
        },
        "id": "XaD6IKBuRMfn",
        "outputId": "21e04902-159c-410c-985e-772a29dc17b8"
      },
      "source": [
        "set1={5,3,2,5,4,1}\n",
        "print(set1)"
      ],
      "execution_count": 50,
      "outputs": [
        {
          "output_type": "stream",
          "text": [
            "{1, 2, 3, 4, 5}\n"
          ],
          "name": "stdout"
        }
      ]
    },
    {
      "cell_type": "code",
      "metadata": {
        "colab": {
          "base_uri": "https://localhost:8080/"
        },
        "id": "79oTm0HsRUap",
        "outputId": "99dde0a9-f994-42bb-ca7d-faf2070f81a2"
      },
      "source": [
        "num1 = {1,2,4,6}\n",
        "num2 = {4,6,8,9}\n",
        "print(num1 | num2) #union"
      ],
      "execution_count": 2,
      "outputs": [
        {
          "output_type": "stream",
          "text": [
            "{1, 2, 4, 6, 8, 9}\n"
          ],
          "name": "stdout"
        }
      ]
    },
    {
      "cell_type": "code",
      "metadata": {
        "colab": {
          "base_uri": "https://localhost:8080/"
        },
        "id": "yRyGQegZnFPD",
        "outputId": "ca2a564d-fbd8-4e1d-d94a-1f4705a9c782"
      },
      "source": [
        "num1 = {1,2,4,6}\n",
        "num2 = {4,6,8,9}\n",
        "print(num1 - num2) "
      ],
      "execution_count": 3,
      "outputs": [
        {
          "output_type": "stream",
          "text": [
            "{1, 2}\n"
          ],
          "name": "stdout"
        }
      ]
    },
    {
      "cell_type": "code",
      "metadata": {
        "colab": {
          "base_uri": "https://localhost:8080/"
        },
        "id": "2cpRUhNYnXAl",
        "outputId": "0f83d7f4-be70-44a3-bf4b-3110d6439666"
      },
      "source": [
        "num1 = {1,2,4,6}\n",
        "num2 = {4,6,8,9}\n",
        "print(num1 & num2) "
      ],
      "execution_count": 4,
      "outputs": [
        {
          "output_type": "stream",
          "text": [
            "{4, 6}\n"
          ],
          "name": "stdout"
        }
      ]
    },
    {
      "cell_type": "code",
      "metadata": {
        "id": "MMeWF5ctnf0p"
      },
      "source": [
        "#dictionary"
      ],
      "execution_count": 5,
      "outputs": []
    },
    {
      "cell_type": "code",
      "metadata": {
        "colab": {
          "base_uri": "https://localhost:8080/"
        },
        "id": "1UZmVFdrr7x9",
        "outputId": "4d4cc33f-5cb5-435a-d65e-3fd06b37b732"
      },
      "source": [
        "dict1 = {\"name\":\"reddy\",\"age\":25,\"college\" :\"NIPER\",\"percentage\":72.9}\n",
        "print(dict1)"
      ],
      "execution_count": 9,
      "outputs": [
        {
          "output_type": "stream",
          "text": [
            "{'name': 'reddy', 'age': 25, 'college': 'NIPER', 'percentage': 72.9}\n"
          ],
          "name": "stdout"
        }
      ]
    },
    {
      "cell_type": "code",
      "metadata": {
        "colab": {
          "base_uri": "https://localhost:8080/"
        },
        "id": "kVQu8e90sld-",
        "outputId": "3f3e6fc8-0124-4ab3-8032-317068b35198"
      },
      "source": [
        "print(dict1[\"age\"])"
      ],
      "execution_count": 10,
      "outputs": [
        {
          "output_type": "stream",
          "text": [
            "25\n"
          ],
          "name": "stdout"
        }
      ]
    },
    {
      "cell_type": "code",
      "metadata": {
        "colab": {
          "base_uri": "https://localhost:8080/"
        },
        "id": "Cg6O_JkBtDZ4",
        "outputId": "f4d63d98-7c2e-423c-f3e2-7b9d14993c25"
      },
      "source": [
        "print(dict1[\"name\"])"
      ],
      "execution_count": 11,
      "outputs": [
        {
          "output_type": "stream",
          "text": [
            "reddy\n"
          ],
          "name": "stdout"
        }
      ]
    },
    {
      "cell_type": "code",
      "metadata": {
        "colab": {
          "base_uri": "https://localhost:8080/"
        },
        "id": "LYycHsw9tF8k",
        "outputId": "719798a6-f249-4b98-f483-83496477568c"
      },
      "source": [
        "print(type(dict1))"
      ],
      "execution_count": 13,
      "outputs": [
        {
          "output_type": "stream",
          "text": [
            "<class 'dict'>\n"
          ],
          "name": "stdout"
        }
      ]
    },
    {
      "cell_type": "code",
      "metadata": {
        "colab": {
          "base_uri": "https://localhost:8080/"
        },
        "id": "FyoGdKWfuQ1C",
        "outputId": "6aac61d2-bc2a-4414-8f09-895699d3b9b9"
      },
      "source": [
        "print(dict1.get(\"age\"))"
      ],
      "execution_count": 15,
      "outputs": [
        {
          "output_type": "stream",
          "text": [
            "25\n"
          ],
          "name": "stdout"
        }
      ]
    },
    {
      "cell_type": "code",
      "metadata": {
        "colab": {
          "base_uri": "https://localhost:8080/"
        },
        "id": "kAtAUZ6dvj26",
        "outputId": "a5624891-49a7-4cc9-bc67-6224ddefa096"
      },
      "source": [
        "print(dict1.get(\"place\"))"
      ],
      "execution_count": 16,
      "outputs": [
        {
          "output_type": "stream",
          "text": [
            "None\n"
          ],
          "name": "stdout"
        }
      ]
    },
    {
      "cell_type": "code",
      "metadata": {
        "colab": {
          "base_uri": "https://localhost:8080/"
        },
        "id": "MEZJzFvVwBf2",
        "outputId": "83dfbd1e-8d73-496d-e620-3e33decf071a"
      },
      "source": [
        "print(dict1.get(\"place\",0))"
      ],
      "execution_count": 18,
      "outputs": [
        {
          "output_type": "stream",
          "text": [
            "0\n"
          ],
          "name": "stdout"
        }
      ]
    },
    {
      "cell_type": "code",
      "metadata": {
        "colab": {
          "base_uri": "https://localhost:8080/"
        },
        "id": "WvYVdeCswNVt",
        "outputId": "b72ad9e5-8155-4e07-d536-888c3d1a7c41"
      },
      "source": [
        "print(dict1.keys())"
      ],
      "execution_count": 20,
      "outputs": [
        {
          "output_type": "stream",
          "text": [
            "dict_keys(['name', 'age', 'college', 'percentage'])\n"
          ],
          "name": "stdout"
        }
      ]
    },
    {
      "cell_type": "code",
      "metadata": {
        "colab": {
          "base_uri": "https://localhost:8080/"
        },
        "id": "EeUDjuqjwooL",
        "outputId": "e68b596c-6ffa-4326-f82b-67266627f61e"
      },
      "source": [
        "print(dict1.items())"
      ],
      "execution_count": 21,
      "outputs": [
        {
          "output_type": "stream",
          "text": [
            "dict_items([('name', 'reddy'), ('age', 25), ('college', 'NIPER'), ('percentage', 72.9)])\n"
          ],
          "name": "stdout"
        }
      ]
    },
    {
      "cell_type": "code",
      "metadata": {
        "id": "9Fq8YQQmw2iS"
      },
      "source": [
        "#modules\n",
        "#generating OTP"
      ],
      "execution_count": 22,
      "outputs": []
    },
    {
      "cell_type": "code",
      "metadata": {
        "id": "0KlGUTZ90t7f"
      },
      "source": [
        "import math as m\n"
      ],
      "execution_count": 32,
      "outputs": []
    },
    {
      "cell_type": "code",
      "metadata": {
        "id": "KABZsNl05XW8"
      },
      "source": [
        "from math import sqrt"
      ],
      "execution_count": 33,
      "outputs": []
    },
    {
      "cell_type": "code",
      "metadata": {
        "colab": {
          "base_uri": "https://localhost:8080/"
        },
        "id": "JpWdwGhY5bXc",
        "outputId": "0020158f-5477-4411-f660-61c2dce127b2"
      },
      "source": [
        "print(sqrt(64))"
      ],
      "execution_count": 34,
      "outputs": [
        {
          "output_type": "stream",
          "text": [
            "8.0\n"
          ],
          "name": "stdout"
        }
      ]
    },
    {
      "cell_type": "code",
      "metadata": {
        "colab": {
          "base_uri": "https://localhost:8080/"
        },
        "id": "ga21JMia5q1W",
        "outputId": "694f4227-fe76-4431-fabe-43d03dea3ecc"
      },
      "source": [
        "print(m.sqrt(64))"
      ],
      "execution_count": 35,
      "outputs": [
        {
          "output_type": "stream",
          "text": [
            "8.0\n"
          ],
          "name": "stdout"
        }
      ]
    },
    {
      "cell_type": "code",
      "metadata": {
        "colab": {
          "base_uri": "https://localhost:8080/"
        },
        "id": "syoR6fII6TaG",
        "outputId": "226de0f7-6d5b-4429-aa37-5d8a375040a3"
      },
      "source": [
        "print(m.pow(2,10))"
      ],
      "execution_count": 36,
      "outputs": [
        {
          "output_type": "stream",
          "text": [
            "1024.0\n"
          ],
          "name": "stdout"
        }
      ]
    },
    {
      "cell_type": "code",
      "metadata": {
        "id": "XYEohGlh7A9n"
      },
      "source": [
        "import random as r #random numbers"
      ],
      "execution_count": 38,
      "outputs": []
    },
    {
      "cell_type": "code",
      "metadata": {
        "id": "PAclySfNNmmm"
      },
      "source": [
        "from random import randint"
      ],
      "execution_count": 39,
      "outputs": []
    },
    {
      "cell_type": "code",
      "metadata": {
        "colab": {
          "base_uri": "https://localhost:8080/"
        },
        "id": "NwuNOHB3Ns7S",
        "outputId": "bd6d2827-fcbc-49b1-8ac7-e08ea95bbf79"
      },
      "source": [
        "print(r.randint(0,20))"
      ],
      "execution_count": 41,
      "outputs": [
        {
          "output_type": "stream",
          "text": [
            "2\n"
          ],
          "name": "stdout"
        }
      ]
    },
    {
      "cell_type": "code",
      "metadata": {
        "colab": {
          "base_uri": "https://localhost:8080/"
        },
        "id": "AZyJxHhrNwXJ",
        "outputId": "d34dd7b5-48bc-43f0-af80-910ad07ff0de"
      },
      "source": [
        "print(r.randrange(0,10))\n"
      ],
      "execution_count": 42,
      "outputs": [
        {
          "output_type": "stream",
          "text": [
            "5\n"
          ],
          "name": "stdout"
        }
      ]
    },
    {
      "cell_type": "code",
      "metadata": {
        "colab": {
          "base_uri": "https://localhost:8080/"
        },
        "id": "6cwXw_7hPjGp",
        "outputId": "a2deb8d4-541b-4155-bd2a-5496744d1e22"
      },
      "source": [
        "print(r.random())"
      ],
      "execution_count": 43,
      "outputs": [
        {
          "output_type": "stream",
          "text": [
            "0.2647663243908157\n"
          ],
          "name": "stdout"
        }
      ]
    },
    {
      "cell_type": "code",
      "metadata": {
        "colab": {
          "base_uri": "https://localhost:8080/"
        },
        "id": "jlmnQPUSPvhR",
        "outputId": "09a65eab-d9b9-440a-fe94-df1dda317fa4"
      },
      "source": [
        "print(r.random() * 50)"
      ],
      "execution_count": 44,
      "outputs": [
        {
          "output_type": "stream",
          "text": [
            "12.745703603365849\n"
          ],
          "name": "stdout"
        }
      ]
    },
    {
      "cell_type": "code",
      "metadata": {
        "id": "28zUCFVuP54o"
      },
      "source": [
        ""
      ],
      "execution_count": null,
      "outputs": []
    }
  ]
}