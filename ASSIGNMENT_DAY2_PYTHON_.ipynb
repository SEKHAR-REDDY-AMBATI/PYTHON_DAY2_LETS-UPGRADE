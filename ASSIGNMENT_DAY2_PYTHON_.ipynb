{
  "nbformat": 4,
  "nbformat_minor": 0,
  "metadata": {
    "colab": {
      "name": "ASSIGNMENT DAY2_PYTHON .ipynb",
      "provenance": [],
      "collapsed_sections": []
    },
    "kernelspec": {
      "name": "python3",
      "display_name": "Python 3"
    },
    "language_info": {
      "name": "python"
    }
  },
  "cells": [
    {
      "cell_type": "code",
      "metadata": {
        "id": "CXvNEYKiJiQI"
      },
      "source": [
        ""
      ],
      "execution_count": null,
      "outputs": []
    },
    {
      "cell_type": "markdown",
      "metadata": {
        "id": "SelwKSBzJ0gI"
      },
      "source": [
        ""
      ]
    },
    {
      "cell_type": "markdown",
      "metadata": {
        "id": "VXGKw6R3J2Fp"
      },
      "source": [
        "# **OTP GENERATOR PROJECT USING PYTHON**"
      ]
    },
    {
      "cell_type": "markdown",
      "metadata": {
        "id": "P__YqvxiKLIr"
      },
      "source": [
        "# **SEKHAR REDDY** /** sekharreddy717.niper@gmail.com** / +**918331995717** "
      ]
    },
    {
      "cell_type": "code",
      "metadata": {
        "id": "Gihvpa1LKgz7"
      },
      "source": [
        "#OTP GENERATOR PROJECT\n",
        "#GENERATE 4 CHARACTER OTP"
      ],
      "execution_count": 1,
      "outputs": []
    },
    {
      "cell_type": "code",
      "metadata": {
        "id": "PjomlxSwK4RL"
      },
      "source": [
        "import random as r #importing random module in python"
      ],
      "execution_count": 2,
      "outputs": []
    },
    {
      "cell_type": "code",
      "metadata": {
        "id": "hQBjn8VALAYi"
      },
      "source": [
        "import string #importing string module in python"
      ],
      "execution_count": 3,
      "outputs": []
    },
    {
      "cell_type": "code",
      "metadata": {
        "id": "4f9g2QcsLJOQ"
      },
      "source": [
        "length = 4"
      ],
      "execution_count": 24,
      "outputs": []
    },
    {
      "cell_type": "code",
      "metadata": {
        "id": "pIRaa5tXLNdi"
      },
      "source": [
        "otp = ' '"
      ],
      "execution_count": 19,
      "outputs": []
    },
    {
      "cell_type": "code",
      "metadata": {
        "id": "x7T4vCYHLSnq"
      },
      "source": [
        "characters = string.ascii_letters + string.digits"
      ],
      "execution_count": 20,
      "outputs": []
    },
    {
      "cell_type": "code",
      "metadata": {
        "colab": {
          "base_uri": "https://localhost:8080/",
          "height": 0
        },
        "id": "VRCCuSL4LeEJ",
        "outputId": "3b7c7cb8-1013-4985-ac8f-a4016571823d"
      },
      "source": [
        "print (characters)"
      ],
      "execution_count": 21,
      "outputs": [
        {
          "output_type": "stream",
          "text": [
            "abcdefghijklmnopqrstuvwxyzABCDEFGHIJKLMNOPQRSTUVWXYZ0123456789\n"
          ],
          "name": "stdout"
        }
      ]
    },
    {
      "cell_type": "code",
      "metadata": {
        "id": "ZxQ93HMCLoTm"
      },
      "source": [
        "for i in range(length):\n",
        "  otp = otp + r.choice(characters)"
      ],
      "execution_count": 22,
      "outputs": []
    },
    {
      "cell_type": "code",
      "metadata": {
        "colab": {
          "base_uri": "https://localhost:8080/",
          "height": 0
        },
        "id": "AiCUqoUIL0b0",
        "outputId": "3c05c0a8-b442-4d53-9a5f-0e54cbf89b83"
      },
      "source": [
        "print(\"OTP :\" , otp) "
      ],
      "execution_count": 23,
      "outputs": [
        {
          "output_type": "stream",
          "text": [
            "OTP :  EBld\n"
          ],
          "name": "stdout"
        }
      ]
    },
    {
      "cell_type": "code",
      "metadata": {
        "id": "_FaEjqs0MrCY"
      },
      "source": [
        ""
      ],
      "execution_count": null,
      "outputs": []
    },
    {
      "cell_type": "markdown",
      "metadata": {
        "id": "CCcVbEszRaQh"
      },
      "source": [
        "# **Delete all occurrences of an element in a list**"
      ]
    },
    {
      "cell_type": "code",
      "metadata": {
        "colab": {
          "base_uri": "https://localhost:8080/"
        },
        "id": "eiIp0zepT754",
        "outputId": "b08de62b-003f-4819-b96d-0e6fb407aa4b"
      },
      "source": [
        "x = [1, 2, 3, 4, 2, 2, 3]\n",
        "while 2 in x: x.remove(2)\n",
        "x"
      ],
      "execution_count": 46,
      "outputs": [
        {
          "output_type": "execute_result",
          "data": {
            "text/plain": [
              "[1, 3, 4, 3]"
            ]
          },
          "metadata": {
            "tags": []
          },
          "execution_count": 46
        }
      ]
    },
    {
      "cell_type": "markdown",
      "metadata": {
        "id": "vu3lKnE3ggQ1"
      },
      "source": [
        "\n",
        "# **Check if the string is pangram**\n",
        "\n"
      ]
    },
    {
      "cell_type": "code",
      "metadata": {
        "id": "tTg22Cx2VHCQ"
      },
      "source": [
        "# Check if the string is pangram\n",
        "import string\n",
        "  \n",
        "def ispangram(str):\n",
        "    alphabet = \"abcdefghijklmnopqrstuvwxyz\"\n",
        "    for char in alphabet:\n",
        "        if char not in str.lower():\n",
        "            return False"
      ],
      "execution_count": 51,
      "outputs": []
    },
    {
      "cell_type": "code",
      "metadata": {
        "id": "gVb-LgX4WvXu"
      },
      "source": [
        ""
      ],
      "execution_count": null,
      "outputs": []
    }
  ]
}